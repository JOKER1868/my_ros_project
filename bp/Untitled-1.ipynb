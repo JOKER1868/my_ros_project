{
 "cells": [
  {
   "cell_type": "code",
   "execution_count": 1,
   "id": "aaad0ecf",
   "metadata": {},
   "outputs": [
    {
     "name": "stdout",
     "output_type": "stream",
     "text": [
      "z = tensor([[ 6.,  8.],\n",
      "        [10., 12.]])\n",
      "w = tensor([[19., 22.],\n",
      "        [43., 50.]])\n"
     ]
    }
   ],
   "source": [
    "import torch\n",
    "\n",
    "# 创建张量\n",
    "x = torch.tensor([[1., 2.], [3., 4.]])\n",
    "y = torch.tensor([[5., 6.], [7., 8.]])\n",
    "\n",
    "# 张量加法\n",
    "z = x + y\n",
    "print(\"z =\", z)\n",
    "\n",
    "# 矩阵乘法\n",
    "w = torch.matmul(x, y)\n",
    "print(\"w =\", w)\n"
   ]
  }
 ],
 "metadata": {
  "kernelspec": {
   "display_name": "nn",
   "language": "python",
   "name": "python3"
  },
  "language_info": {
   "codemirror_mode": {
    "name": "ipython",
    "version": 3
   },
   "file_extension": ".py",
   "mimetype": "text/x-python",
   "name": "python",
   "nbconvert_exporter": "python",
   "pygments_lexer": "ipython3",
   "version": "3.10.18"
  }
 },
 "nbformat": 4,
 "nbformat_minor": 5
}
